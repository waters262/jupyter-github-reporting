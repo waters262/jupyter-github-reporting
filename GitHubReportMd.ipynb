{
 "cells": [
  {
   "cell_type": "code",
   "execution_count": null,
   "id": "b912c774",
   "metadata": {
    "ExecuteTime": {
     "end_time": "2022-04-19T20:13:57.665127Z",
     "start_time": "2022-04-19T20:13:57.654117Z"
    }
   },
   "outputs": [],
   "source": [
    "# Print issues List created above\n",
    "# Get json file\n",
    "import requests\n",
    "import pprint\n",
    "from gitsecrets import GITHUB_USER,GITHUB_TOKEN\n",
    "from IPython.display import display, Math, HTML, Markdown\n",
    "import datetime  \n",
    "import pytz\n",
    "from dateutil.relativedelta import relativedelta\n",
    "import textwrap\n",
    "import json\n",
    "\n",
    "display(HTML(\"<style>.container { width:310mm !important; }</style>\"))\n",
    "with open('ReposIssuesList.json') as f:\n",
    "    data = f.read()\n",
    "reposIssuesList = json.loads(data)\n",
    "with open('MilestonesList.json') as f:\n",
    "    data = f.read()\n",
    "milestonesList = json.loads(data)\n",
    "#\n",
    "# To Create WebPdf use:  \n",
    "#     jupyter nbconvert .\\GitHubReportMd.ipynb --to webpdf --no-input --output-dir='../docs' --output MyGitHubReport\n",
    "#"
   ]
  },
  {
   "cell_type": "code",
   "execution_count": null,
   "id": "27be11c9",
   "metadata": {
    "ExecuteTime": {
     "end_time": "2022-04-19T20:13:57.680143Z",
     "start_time": "2022-04-19T20:13:57.666136Z"
    }
   },
   "outputs": [],
   "source": [
    "OPEN_ISSUES_TEMPLATE = \"\"\"\n",
    "\\hspace {10mm} \\\\normalsize {\\\\textbf{TITLE - #NBR}}  \\\\Huge {\\\\phantom{l}} \\\\\\[3pt] \n",
    "\\hspace {10mm} \\small {\\\\textsf{Opened AGE days ago on ODATE }} \\\\\\[1pt] \n",
    "\\hspace {10mm} \\small {\\\\textsf{Module: MODULE }} \\\\\\ \\\\\\ \n",
    "\\hspace {10mm} \\\\bbox[5pt]  {\\small {TASKS }} \\\\\\[5pt] \n",
    "\\hspace {10mm} \\small { LABELS } \\\\\\ \n",
    "\"\"\"\n",
    "ISSUE_TEMPLATE = \"\"\"\n",
    "\\hspace {10mm} \\small {\\\\textbf{TITLE - #NBR}} \\\\\\[1pt] \n",
    "\\hspace {10mm} \\small {\\\\textsf{Opened AGE days ago on ODATE }} \\\\\\[1pt] \n",
    "\\hspace {10mm} \\small {\\\\textsf{Module: MODULE }} \\\\\\[1pt] \n",
    "\"\"\"\n",
    "CLOSED_ISSUE_TEMPLATE = \"\"\"\n",
    "\\hspace {10mm} \\small {\\\\textbf{TITLE - #NBR}} \\\\\\[1pt] \n",
    "\\hspace {10mm} \\small {\\\\textsf{Opened AGE days ago on ODATE - Closed on CDATE }} \\\\\\[1pt] \n",
    "\\hspace {10mm} \\small {\\\\textsf{Module: MODULE }} \\\\\\[1pt] \n",
    "\\hspace {10mm} \\small { LABELS } \\\\\\[1pt] \n",
    "\"\"\"\n",
    "LABELS_TEMPLATE = \"\"\"\n",
    "\\\\begin{array}{l l} \n",
    "\\\\textit{Comments:} &  COMM \n",
    "\\\\end{array}  \n",
    "\"\"\"\n",
    "STATE_TEMPLATE = \"\"\"\n",
    "\\\\begin{array}{l r} \n",
    " \\\\small { \\\\color{red} { \\\\textsf{Open:}}} & OPEN \\\\\\ \n",
    " \\\\small { \\\\color{green} {\\\\textsf{Closed:}}} & CLOSED \\\\\\ \n",
    "\\\\end{array}  \n",
    "\"\"\"\n",
    "TASKS_TEMPLATE = \"\"\"\n",
    "\\\\begin{array}{l l} \n",
    "\\\\textit{Tasks:} & \\\\hspace {10mm} TASKS \n",
    "\\\\end{array} \n",
    "\"\"\"\n",
    "# print('\\nIssues Closed Last Week')\n",
    "closedTitle = \"\"\"<div style=\\\"page-break-after: always;\\\"></div>\n",
    "<hr style=\"height:5px;border-width:0;color:green;background-color:green\">\n",
    "$ \\hspace {20mm} \\\\normalsize \\\\color{green} \n",
    "{\\\\textbf{Summary of Issues Closed During Last 7 Days (Including Merged Branches)}} \\\\\\[1pt]  $ \n",
    "<hr style=\"height:5px;border-width:0;color:green;background-color:green\">\n",
    "\"\"\"\n",
    "\n",
    "# print('\\nIssues Opened Last Week')\n",
    "openedTitle = \"\"\"<div style=\\\"page-break-after: always;\\\"></div>\n",
    "<hr style=\"height:5px;border-width:0;color:red;background-color:red\">\n",
    "$ \\hspace {50mm} \\\\normalsize \\\\color{red} \n",
    "{\\\\textbf{Summary of Issues Opened During Last 7 Days}} \\\\\\[1pt]  $ \n",
    "<hr style=\"height:5px;border-width:0;color:red;background-color:red\">\n",
    "\"\"\"\n",
    "reportTitle = \\\n",
    "\"\"\"\\hspace {40mm} \\Large {\\\\textbf{TRUCCR Milestones/Issues Report}} \\\\\\[1pt]\n",
    "\\hspace {80mm} \\\\small {\\\\textsf{Date: TDATE  }   }   \\\\\\[20pt] \"\"\"\n"
   ]
  },
  {
   "cell_type": "code",
   "execution_count": null,
   "id": "e2a2bb00",
   "metadata": {
    "ExecuteTime": {
     "end_time": "2022-04-19T20:13:57.695167Z",
     "start_time": "2022-04-19T20:13:57.681145Z"
    },
    "code_folding": []
   },
   "outputs": [],
   "source": [
    "issuesList = []\n",
    "for repo in reposIssuesList:\n",
    "    for issue in repo['issues']:\n",
    "        issueDict = {}\n",
    "        issueDict['repo_name'] = repo['repo_name']\n",
    "        issueDict['issue_title'] = issue['title']\n",
    "        issueDict['issue_number'] = issue['number']\n",
    "        issueDict['date_opened'] = issue['created_at']\n",
    "        issueDict['date_closed'] = issue['closed_at']\n",
    "        issueDict['state'] = issue['state']\n",
    "        issueDict['body'] = issue['body']\n",
    "        issueDict['labels'] = issue['labels']\n",
    "        if issue['milestone'] is not None:\n",
    "            issueDict['milestone'] = issue['milestone']['title']\n",
    "        else:\n",
    "            issueDict['milestone'] = 'None'\n",
    "        issuesList.append(issueDict)\n",
    "\n",
    "td = datetime.datetime.today()\n",
    "start_datetime =  td  + relativedelta(days=-7) \n",
    "recently_datetime = start_datetime.astimezone(pytz.timezone('US/Eastern'))\n",
    "\n",
    "today = td.astimezone(pytz.timezone('US/Eastern'))\n",
    "todayDate = today.strftime(\"%m/%d/%Y\")\n",
    "display(Markdown( '$ ' + reportTitle.replace('TDATE', todayDate  ) + ' $' ))"
   ]
  },
  {
   "cell_type": "code",
   "execution_count": null,
   "id": "e40d4211",
   "metadata": {
    "ExecuteTime": {
     "end_time": "2022-04-19T20:13:57.710179Z",
     "start_time": "2022-04-19T20:13:57.696167Z"
    },
    "code_folding": [],
    "scrolled": true
   },
   "outputs": [],
   "source": [
    "#\n",
    "# MILESTONE section\n",
    "#\n",
    "wrapper = textwrap.TextWrapper(width=80)\n",
    "mStoneMatrix = ' \\\\begin{array}{| l l |} \\\\hline '\n",
    "mStoneTitle =  '\\\\large { \\\\color{blue}{\\\\textbf{Currently Open Milestones} } }  \\\\\\[1pt]  '\n",
    "\n",
    "sortedStoneList = sorted(milestonesList ,key=lambda i:i['due_on'] )\n",
    "\n",
    "for milestone in sortedStoneList:\n",
    "#     print(milestone['title'])\n",
    "    matrixLine = ' \\\\small { \\\\color{blue} {\\\\textbf {MSTONE}} } & \\\\small {\\\\textsf{Due: MDATE } }  \\\\\\ '\n",
    "    matrixLine = matrixLine.replace('MSTONE', milestone['title'] )\n",
    "    dueDate = milestone['due_on'][5:10] if milestone['due_on'] else 'TBD'\n",
    "    matrixLine = matrixLine.replace('MDATE',dueDate )\n",
    "    matrixLine2 = '   MDESCR  & \\\\small \\\\textsf{ }   \\\\\\ '\n",
    "    mDescr = milestone['description'] if milestone['description'] else \"None\"\n",
    "    # Wrap this text.\n",
    "    mDescr = wrapper.wrap(text=mDescr)\n",
    "    # Print each line.\n",
    "    descrMatrix = ' \\\\hspace {10mm} \\\\begin{array}{ l}  '\n",
    "    for element in mDescr:\n",
    "        mLine =  ' \\\\small { \\\\textsf {MLINE} } \\\\\\ '\n",
    "        mLine = mLine.replace('MLINE',element)\n",
    "        descrMatrix = descrMatrix + mLine\n",
    "#         print(element)\n",
    "    descrMatrix = descrMatrix + '  \\\\end{array} '\n",
    "    matrixLine2 = matrixLine2.replace('MDESCR' ,  descrMatrix )\n",
    "    mStoneMatrix = mStoneMatrix  +   matrixLine + matrixLine2 + ' \\\\hdashline  '\n",
    "\n",
    "mStoneMatrix = mStoneMatrix + ' \\\\end{array} \\\\\\[1pt]  '\n",
    "display(Markdown( '$ \\\\hspace {60mm} ' + mStoneTitle + ' \\\\hspace {20mm} '  + mStoneMatrix + '  $' ))\n",
    "# print( mStoneTitle + mStoneMatrix   )\n",
    "# print('num: ', len(mDescr))"
   ]
  },
  {
   "cell_type": "code",
   "execution_count": null,
   "id": "77e40982",
   "metadata": {
    "ExecuteTime": {
     "end_time": "2022-04-19T20:13:57.740475Z",
     "start_time": "2022-04-19T20:13:57.711181Z"
    },
    "code_folding": []
   },
   "outputs": [],
   "source": [
    "#\n",
    "#  REPO's Summary section\n",
    "#\n",
    "grandTotRepoOpen = 0\n",
    "grandTotRepoClosed = 0\n",
    "\n",
    "for repo in reposIssuesList: \n",
    "    grandTotRepoOpen = grandTotRepoOpen + repo['open']\n",
    "    grandTotRepoClosed = grandTotRepoClosed + repo['closed']\n",
    "    \n",
    "repoMatrix = ' \\\\begin{array}{| l l |} \\\\hline '\n",
    "newMatrixLine = ''\n",
    "\n",
    "for repo in reposIssuesList: \n",
    "#     print(repo['repo_name'])\n",
    "    repoMatrixLine = '\\\\hspace {0mm} \\\\small {\\\\textbf{REPO}  }  &  STATE  \\\\\\[1pt] \\\\hdashline '\n",
    "    newLine = repoMatrixLine.replace('REPO',repo['repo_name'])\n",
    "    # added phantom to right justify all state matrixes\n",
    "    repoState = STATE_TEMPLATE.replace('OPEN' ,' '+ ' \\\\phantom{1} \\\\textbf{' + str(repo['open']) + '} ')\n",
    "    repoState = repoState.replace('CLOSED' , str(repo['closed'])  ) \n",
    "    newLine =  newLine.replace('STATE' , repoState )\n",
    "    newMatrixLine = newMatrixLine + newLine\n",
    "    \n",
    "totStates = STATE_TEMPLATE.replace('OPEN' ,' \\\\textbf{' + str(grandTotRepoOpen) + '}' )\n",
    "totStates = totStates.replace('CLOSED' , ' \\\\textbf{' + str(grandTotRepoClosed) + '}'  )\n",
    "repoMatrixLine = '\\\\hspace {0mm} \\\\small {\\\\textbf{REPO}  }  &  STATE  \\\\\\[1pt] \\\\hline '\n",
    "newLine = repoMatrixLine.replace('REPO', 'Total')\n",
    "newLine =  newLine.replace('STATE' , totStates )\n",
    "newMatrixLine = newMatrixLine + newLine\n",
    "repoMatrix = repoMatrix + newMatrixLine + '  \\\\end{array} \\\\\\[1pt] '\n",
    "# print(repoState)\n",
    "repoTitle =  ' \\\\Huge {\\\\phantom{T}} \\\\large {\\\\color{black}{\\\\textbf{Repository Issue Status Summary}}} \\\\\\[1pt]  '\n",
    "display(Markdown( '$ \\\\hspace {52mm} ' + repoTitle + ' \\\\hspace {60mm}  ' + repoMatrix  + ' $' ))"
   ]
  },
  {
   "cell_type": "code",
   "execution_count": null,
   "id": "035f5f8f",
   "metadata": {
    "ExecuteTime": {
     "end_time": "2022-04-19T20:13:57.755490Z",
     "start_time": "2022-04-19T20:13:57.741477Z"
    },
    "code_folding": [
     53
    ]
   },
   "outputs": [],
   "source": [
    "#\n",
    "#  ISSUES section\n",
    "#\n",
    "currentIssuesTitle = \"\"\"\n",
    "$ \n",
    "\\\\hspace {80mm}  \\\\large \\\\color{red}  {\\\\textbf{Current Open Issues}} \\\\Huge {  \\\\phantom{X}} \n",
    "\\\\hspace {85mm} \\\\normalsize \\\\color{blue}  {\\\\textsf{Grouped by Milestone}} \\\\\\[10pt]\n",
    "$ \"\"\"\n",
    "display(Markdown(currentIssuesTitle ))\n",
    "milestoneTitle = '$ \\hspace {0mm} \\\\large  \\\\color{blue}{\\\\textsf{ MSTONE}} $ '\n",
    "\n",
    "# Loop Through Milestones and display issues\n",
    "for milestone in sortedStoneList:\n",
    "    display(Markdown( milestoneTitle.replace('MSTONE', milestone['title']  ) ))\n",
    "    for issue in issuesList:\n",
    "        if issue['state'] == 'open' and issue['milestone'] == milestone['title']:\n",
    "    #         print('\\n' + issue['issue_title'] + ' - #' + str(issue['issue_number'] )   )\n",
    "            openIssues = OPEN_ISSUES_TEMPLATE\n",
    "            openIssues = openIssues.replace('TITLE' , issue['issue_title'] )\n",
    "            openIssues = openIssues.replace('NBR' , str(issue['issue_number']) )\n",
    "            openedDate = datetime.datetime.strptime(issue['date_opened'],\"%Y-%m-%dT%H:%M:%SZ\")\n",
    "            age = td - openedDate\n",
    "            dateOpened =openedDate.astimezone(pytz.timezone('US/Eastern')).strftime(\"%m/%d\")\n",
    "    #         print('Opened ' + str(age.days) + ' days ago on ' + dateOpened )\n",
    "    #         print('Module: ' + issue['repo_name']    )\n",
    "            openIssues = openIssues.replace('AGE' , str(age.days ) )\n",
    "            openIssues = openIssues.replace('ODATE' , dateOpened )\n",
    "            openIssues = openIssues.replace('MODULE' , str(issue['repo_name']) )\n",
    "    #  Display Tasks\n",
    "            issueBody = issue['body']\n",
    "            if issueBody is not None :\n",
    "                issueCnt = 0\n",
    "    #             issueLineList  = string2List(issueBody)\n",
    "                issueMatrix = ' \\\\begin{array}{l}  '\n",
    "                for issueLine in issueBody:\n",
    "                    if len(issueLine) > 1 and ('[ ]' in  issueLine or '[x]' in issueLine) :\n",
    "                        issueCnt += 1\n",
    "                        matrixLine = ' \\\\small {  CHECKBOX \\\\ \\\\textsf{LINE }  } \\\\\\ '\n",
    "                        checkbox = issueLine[:5]\n",
    "                        checkbox = checkbox.replace('- [x]'  , ' \\\\color{green}{\\\\boxed{x}} \\\\ '  )\n",
    "                        checkbox = checkbox.replace('- [ ]'  , ' \\\\color{red}{\\\\boxed{\\\\phantom{x}}} \\\\ '  )\n",
    "                        matrixLine = matrixLine.replace( 'CHECKBOX'  , checkbox )\n",
    "                        issueMatrix = issueMatrix + matrixLine.replace('LINE', issueLine[6:]   )\n",
    "                if issueCnt > 0:\n",
    "                    issueMatrix = issueMatrix + '  \\\\end{array}  '\n",
    "                    tasksComments = TASKS_TEMPLATE\n",
    "                    tasksComments = tasksComments.replace('TASKS' ,issueMatrix)\n",
    "                    openIssues = openIssues.replace('TASKS' , tasksComments )\n",
    "                else:\n",
    "                    openIssues = openIssues.replace('TASKS' , '\\\\textit{No Tasks Entered}' )\n",
    "            else:\n",
    "                openIssues = openIssues.replace('TASKS' , '\\\\textit{No Tasks Entered}' )  \n",
    "    # Display Comments\n",
    "            if len(issue['labels']) > 0:\n",
    "                labelsMatrix = ' \\\\begin{array}{l}    '\n",
    "                for label in issue['labels'] :\n",
    "                    matrixLine = ' \\\\small { \\\\textsf{LABEL }}  \\\\\\  '\n",
    "                    labelsMatrix = labelsMatrix + matrixLine.replace('LABEL', label['description'] )\n",
    "                labelsMatrix = labelsMatrix + '  \\\\end{array}   '\n",
    "                issueComments = LABELS_TEMPLATE\n",
    "                openIssues = openIssues.replace('LABELS' , issueComments.replace('COMM',labelsMatrix ))\n",
    "            else:\n",
    "                openIssues = openIssues.replace('LABELS' , ' \\\\textit{No Comments} ' )    \n",
    "\n",
    "            display(Markdown ('$ ' + openIssues   + ' $'    ))"
   ]
  },
  {
   "cell_type": "code",
   "execution_count": null,
   "id": "9485b089",
   "metadata": {
    "ExecuteTime": {
     "end_time": "2022-04-19T20:13:57.770503Z",
     "start_time": "2022-04-19T20:13:57.756490Z"
    },
    "code_folding": [
     5
    ]
   },
   "outputs": [],
   "source": [
    "#\n",
    "# CLOSED ISSUES SECTION\n",
    "#\n",
    "\n",
    "display(Markdown( closedTitle  ))\n",
    "for issue in issuesList:\n",
    "    if issue['state'] == 'closed':\n",
    "        openedDate = datetime.datetime.strptime(issue['date_opened'],\"%Y-%m-%dT%H:%M:%SZ\")\n",
    "        dateOpened =openedDate.astimezone(pytz.timezone('US/Eastern')).strftime(\"%m/%d\")\n",
    "        closedDate = datetime.datetime.strptime(issue['date_closed'],\"%Y-%m-%dT%H:%M:%SZ\")\n",
    "        dateClosed =closedDate.astimezone(pytz.timezone('US/Eastern')).strftime(\"%m/%d\")\n",
    "        age = td - closedDate\n",
    "        if age.days > 7 :\n",
    "            continue\n",
    "        closedIssue = CLOSED_ISSUE_TEMPLATE\n",
    "        closedIssue = closedIssue.replace('TITLE' , issue['issue_title'] )\n",
    "        closedIssue = closedIssue.replace('NBR' , str(issue['issue_number']) )            \n",
    "        closedIssue = closedIssue.replace('AGE' , str(age.days ) )\n",
    "        closedIssue = closedIssue.replace('ODATE' , dateOpened )\n",
    "        closedIssue = closedIssue.replace('CDATE' , dateClosed )\n",
    "        closedIssue = closedIssue.replace('MODULE' , str(issue['repo_name']) )       \n",
    "        if len(issue['labels']) > 0:\n",
    "            labelsMatrix = ' \\\\begin{array}{l}    '\n",
    "            for label in issue['labels'] :\n",
    "                matrixLine = ' \\\\small { \\\\textsf{LABEL }}  \\\\\\  '\n",
    "                labelsMatrix = labelsMatrix + matrixLine.replace('LABEL', label['description'] )\n",
    "            labelsMatrix = labelsMatrix + '  \\\\end{array}   '\n",
    "            issueComments = LABELS_TEMPLATE\n",
    "            closedIssue = closedIssue.replace('LABELS' , issueComments.replace('COMM',labelsMatrix ))\n",
    "        else:\n",
    "            closedIssue = closedIssue.replace('LABELS' , ' \\\\textit{No Comments} ' )    \n",
    "            \n",
    "        display(Markdown ('$ ' + closedIssue   + ' $'    ))"
   ]
  },
  {
   "cell_type": "code",
   "execution_count": null,
   "id": "b0ca6e1e",
   "metadata": {
    "ExecuteTime": {
     "end_time": "2022-04-19T20:13:57.785330Z",
     "start_time": "2022-04-19T20:13:57.770503Z"
    },
    "code_folding": [
     5
    ]
   },
   "outputs": [],
   "source": [
    "#\n",
    "# RECENTLY OPEN ISSUES SECTION\n",
    "#\n",
    "\n",
    "display(Markdown( openedTitle ))\n",
    "for issue in issuesList:\n",
    "    if issue['state'] == 'open':\n",
    "        openedDate = datetime.datetime.strptime(issue['date_opened'],\"%Y-%m-%dT%H:%M:%SZ\")\n",
    "        age = td - openedDate\n",
    "        if age.days > 7 :\n",
    "            continue\n",
    "#         print('\\n' + issue['issue_title'] + ' - #' + str(issue['issue_number'] )   )\n",
    "        dateOpened =openedDate.astimezone(pytz.timezone('US/Eastern')).strftime(\"%m/%d\")\n",
    "        \n",
    "        openIssue = ISSUE_TEMPLATE\n",
    "        openIssue = openIssue.replace('TITLE' , issue['issue_title'] )\n",
    "        openIssue = openIssue.replace('NBR' , str(issue['issue_number']) )            \n",
    "        openIssue = openIssue.replace('AGE' , str(age.days ) )\n",
    "        openIssue = openIssue.replace('ODATE' , dateOpened )\n",
    "        openIssue = openIssue.replace('MODULE' , str(issue['repo_name']) )            \n",
    "        display(Markdown ('$ ' + openIssue   + ' $'    ))       \n",
    "\n",
    "print('-------------')"
   ]
  }
 ],
 "metadata": {
  "kernelspec": {
   "display_name": "Python 3 (ipykernel)",
   "language": "python",
   "name": "python3"
  },
  "language_info": {
   "codemirror_mode": {
    "name": "ipython",
    "version": 3
   },
   "file_extension": ".py",
   "mimetype": "text/x-python",
   "name": "python",
   "nbconvert_exporter": "python",
   "pygments_lexer": "ipython3",
   "version": "3.9.7"
  },
  "toc": {
   "base_numbering": 1,
   "nav_menu": {},
   "number_sections": true,
   "sideBar": true,
   "skip_h1_title": false,
   "title_cell": "Table of Contents",
   "title_sidebar": "Contents",
   "toc_cell": false,
   "toc_position": {
    "height": "411.954px",
    "left": "151px",
    "top": "160.968px",
    "width": "182.948px"
   },
   "toc_section_display": true,
   "toc_window_display": false
  },
  "varInspector": {
   "cols": {
    "lenName": 16,
    "lenType": 16,
    "lenVar": 40
   },
   "kernels_config": {
    "python": {
     "delete_cmd_postfix": "",
     "delete_cmd_prefix": "del ",
     "library": "var_list.py",
     "varRefreshCmd": "print(var_dic_list())"
    },
    "r": {
     "delete_cmd_postfix": ") ",
     "delete_cmd_prefix": "rm(",
     "library": "var_list.r",
     "varRefreshCmd": "cat(var_dic_list()) "
    }
   },
   "types_to_exclude": [
    "module",
    "function",
    "builtin_function_or_method",
    "instance",
    "_Feature"
   ],
   "window_display": false
  }
 },
 "nbformat": 4,
 "nbformat_minor": 5
}
