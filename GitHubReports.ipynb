{
 "cells": [
  {
   "cell_type": "markdown",
   "id": "9af9674c",
   "metadata": {},
   "source": [
    "# Introduction to GitHub Repo and Gists Reporting\n",
    "\n",
    "<p>This Notebook provides a basic reporting tool that creates a report based on either a users or an organizations repositories.  </p>\n",
    "<p>For organizations with a large number of repositories, a Filter List can be used to limit the number of repos returned.</p>\n",
    "<p>This Notebook also provides a basic reporting tool that creates a report of a users' Gists.  </p>"
   ]
  },
  {
   "cell_type": "markdown",
   "id": "dcb5105c",
   "metadata": {},
   "source": [
    "## About this Notebook\n",
    "This Notebook uses the following:\n",
    "\n",
    "* Python 3 \n",
    "* toc2 nbextension (optional) for displaying Table of Contents.\n",
    "* MikTex for nbconversion (optional) for converting notebook to pdf"
   ]
  },
  {
   "cell_type": "markdown",
   "id": "561d9896",
   "metadata": {},
   "source": [
    "## References and Info\n",
    "See command below for converting Notebook to web pdf without code cells and prompts\n",
    "```\n",
    "jupyter nbconvert .\\GitHubReports.ipynb --to webpdf --no-input --output myReport.pdf\n",
    "```"
   ]
  },
  {
   "cell_type": "markdown",
   "id": "40cb87a7",
   "metadata": {},
   "source": [
    "# GitHub Report\n",
    "<p>This report is a basic report based on either a users or an organizations GitHub repositories.  </p>"
   ]
  },
  {
   "cell_type": "markdown",
   "id": "3720f89e",
   "metadata": {},
   "source": [
    "## Prerequisites\n",
    "<p> This report requires a separate Git credentials file to be placed in same directory as notebook and a reporting strategy (choose eiter user or org)\n",
    "    </p>"
   ]
  },
  {
   "cell_type": "markdown",
   "id": "710988f4",
   "metadata": {},
   "source": [
    "### GitHub Credentials File Setup\n",
    "\n",
    "<div class=\"alert alert-block alert-info\">\n",
    "<b>Create security file:</b> \n",
    "<p>In the same directory as this Notebook, create a file - gitsecrets.py - and add the following:<br>\n",
    "    GITHUB_USER= Your Git User Name  <br>\n",
    "    GITHUB_TOKEN= Your Git Token\n",
    "</p>\n",
    "</div>\n",
    "\n",
    "<div class=\"alert alert-block alert-warning\"><b>GitHub API Limits: </b>You may reach a limit of API calls that GitHub will allow, ex. 2000 calls/minute.  Try to limit the number of repos/folders/files. </div>\n"
   ]
  },
  {
   "cell_type": "markdown",
   "id": "343e0097",
   "metadata": {},
   "source": [
    "## Initialize Report\n",
    "<p>Required steps before report can be executed</p>"
   ]
  },
  {
   "cell_type": "markdown",
   "id": "b8fbd814",
   "metadata": {},
   "source": [
    "### Import packages and Set Authorization\n",
    "Credentials file - ***gitsecrets.py*** - needs to be available"
   ]
  },
  {
   "cell_type": "code",
   "execution_count": null,
   "id": "e03e81e6",
   "metadata": {
    "ExecuteTime": {
     "end_time": "2022-04-19T20:02:53.974288Z",
     "start_time": "2022-04-19T20:02:53.848418Z"
    },
    "code_folding": [
     36
    ]
   },
   "outputs": [],
   "source": [
    "import requests\n",
    "import pprint\n",
    "import json\n",
    "from gitsecrets import GITHUB_USER,GITHUB_TOKEN\n",
    "from IPython.display import display, Math, HTML, Markdown\n",
    "import datetime  \n",
    "import pytz\n",
    "from dateutil.relativedelta import relativedelta\n",
    "\n",
    "display(HTML(\"<style>.container { width:80% !important; }</style>\"))\n",
    "display(HTML(\"<style>div.output_scroll { height: 70em; }</style>\"))\n",
    "\n",
    "# Create auth for Git credentials\n",
    "auth=requests.auth.HTTPBasicAuth( GITHUB_USER  ,GITHUB_TOKEN )\n",
    "print('Authorization set up for user: ', GITHUB_USER)\n",
    "td = datetime.datetime.today()\n",
    "start_datetime =  td  + relativedelta(days=-7) \n",
    "recently_datetime = start_datetime.astimezone(pytz.timezone('US/Eastern'))\n",
    "print('Recent start date '   ,\n",
    "      recently_datetime.astimezone(pytz.timezone('US/Eastern')).strftime(\"%m/%d/%Y %I:%M %p %Z\") )\n",
    "# print( + str(recently_datetime))\n",
    "\n",
    "def string2List (myString):\n",
    "    out = [] \n",
    "    buff = []\n",
    "    for c in myString:\n",
    "        if c == '\\n' or c == '\\r':\n",
    "            out.append(''.join(buff))\n",
    "            buff = []\n",
    "        else:\n",
    "            buff.append(c)\n",
    "    else:\n",
    "        if buff:\n",
    "           out.append(''.join(buff))\n",
    "    return out\n",
    "\n",
    "def show_branch_tree(branchTree,offset):\n",
    "    x = branchTree\n",
    "    for tree in x.json()['tree']  :\n",
    "        if tree['type'] != 'tree':\n",
    "            print(' '*offset + tree['path']) \n",
    "        if tree['type'] == 'tree':\n",
    "            print(' '*offset +  tree['path'] + '/'       )\n",
    "            x2 = requests.get(tree['url'] , auth=auth)\n",
    "            for tree2 in x2.json()['tree']:\n",
    "                print( ' '*(offset + 4) , tree2['path'] + (  '/'  if tree2['type'] == 'tree' else ''  ) )\n",
    "                if tree2['type'] == 'tree' :\n",
    "                    x3 = requests.get(tree2['url'] , auth=auth)\n",
    "                    for tree3 in x3.json()['tree']:\n",
    "                        print( ' '*(offset + 8),  tree3['path'] + (  '/'  if tree3['type'] == 'tree' else ''  ) )\n",
    "                        if tree3['type'] == 'tree' :\n",
    "                            x4 = requests.get(tree3['url'] , auth=auth)\n",
    "                            for tree4 in x4.json()['tree']:\n",
    "                                print( ' '*(offset + 12),  tree4['path'] + (  '/'  if tree4['type'] == 'tree' else ''  ) )\n",
    "                                if tree4['type'] == 'tree' :\n",
    "                                    x5 = requests.get(tree4['url'] , auth=auth)\n",
    "                                    for tree5 in x5.json()['tree']:\n",
    "                                        print(' '*(offset + 16) ,  tree5['path'] + (  '/'  if tree5['type'] == 'tree' else ''  ) )\n"
   ]
  },
  {
   "cell_type": "markdown",
   "id": "d18f81d9",
   "metadata": {},
   "source": [
    "### Fetch Repos\n",
    "You will be prompted for User or Org"
   ]
  },
  {
   "cell_type": "code",
   "execution_count": null,
   "id": "a53b883e",
   "metadata": {
    "ExecuteTime": {
     "end_time": "2022-04-19T20:08:32.969937Z",
     "start_time": "2022-04-19T20:08:27.765712Z"
    }
   },
   "outputs": [],
   "source": [
    "print('Will the report be for a User or Org (User/Org)?')\n",
    "reportType = input()\n",
    "org = ''\n",
    "if reportType == \"U\" :\n",
    "    print('Your report will be base on your Git User')\n",
    "    repoUrl = 'https://api.github.com/repos/' +  GITHUB_USER\n",
    "    repoResponse = requests.get(repoUrl, auth=auth)\n",
    "    print('Authorization Confirmed for user: ' + GITHUB_USER + ' Repo Url is: '+ repoUrl)\n",
    "elif reportType == \"O\":\n",
    "    print('Report will be based on your organization, please type name of org:')\n",
    "    org = input()\n",
    "    repoUrl = 'https://api.github.com/orgs/' + org + '/repos'\n",
    "    repoResponse = requests.get(repoUrl, auth=auth)\n",
    "    print('Authorization Confirmed for user: ' + GITHUB_USER + ' Repo Url is: '+ repoUrl)\n",
    "else :\n",
    "    print ('Error, try again')\n",
    "reposFilterUrls =[]"
   ]
  },
  {
   "cell_type": "markdown",
   "id": "e66f276b",
   "metadata": {},
   "source": [
    "## Repos/Filter List \n",
    "* Filter List (optional) \n",
    "* Repos List (required)"
   ]
  },
  {
   "cell_type": "markdown",
   "id": "750eeed2",
   "metadata": {},
   "source": [
    "### Create Repo Filter List (optional)\n",
    "<p>Append name of desired repos to the reposFilterUrls List, as required</p>\n",
    "Example:  reposFilterUrls.append('myTestRepo')"
   ]
  },
  {
   "cell_type": "code",
   "execution_count": null,
   "id": "80ab91e2",
   "metadata": {
    "ExecuteTime": {
     "end_time": "2022-04-19T20:08:40.150342Z",
     "start_time": "2022-04-19T20:08:40.143336Z"
    }
   },
   "outputs": [],
   "source": [
    "tmpReposFilterUrls = []\n",
    "# Add Filters as required as show below\n",
    "# tmpReposFilterUrls.append('JupyterCloud')\n",
    "# tmpReposFilterUrls.append('me262_oci-iac')\n",
    "\n",
    "with open('myRepos.json') as f:\n",
    "    data = f.read()\n",
    "\n",
    "# reconstructing the data as a dictionary\n",
    "myRepos = json.loads(data)\n",
    "for myRepo in myRepos:\n",
    "    tmpReposFilterUrls.append(myRepo)\n",
    "# print(js)\n",
    "\n",
    "print( 'Number of Filters: '  ,len(tmpReposFilterUrls))\n",
    "print('Filter List:')\n",
    "reposFilterUrls = []\n",
    "for rFilter in tmpReposFilterUrls:\n",
    "    if reportType == 'U':\n",
    "        urlExtn = 'repos/' + GITHUB_USER + '/'\n",
    "    else:\n",
    "        urlExtn = 'repos/' + org + '/'\n",
    "    newFilter = 'https://api.github.com/' + urlExtn + rFilter.split(\":\")[0] \n",
    "    reposFilterUrls.append(newFilter  )\n",
    "    print(newFilter)\n"
   ]
  },
  {
   "cell_type": "markdown",
   "id": "4474bebb",
   "metadata": {},
   "source": [
    "### Create Repo List (required)\n",
    "<p>Run cell and verify repo count (Note: max repos is 30)</p>"
   ]
  },
  {
   "cell_type": "code",
   "execution_count": null,
   "id": "dfef8a2a",
   "metadata": {
    "ExecuteTime": {
     "end_time": "2022-04-19T20:08:50.707794Z",
     "start_time": "2022-04-19T20:08:48.922470Z"
    }
   },
   "outputs": [],
   "source": [
    "repos =[]\n",
    "# Get Repo object from GitHub\n",
    "if reposFilterUrls is not None and len(reposFilterUrls) > 0:\n",
    "    for reposFilterUrl in reposFilterUrls:\n",
    "        resp = repoResponse = requests.get(reposFilterUrl, auth=auth)\n",
    "        repos.append(resp.json())\n",
    "# else:\n",
    "#     for repoR in repoResponse.json():\n",
    "#         repos.append(repoR)\n",
    "print( 'Number of Repos Found: '  ,len(repos))\n",
    "print('\\nRepos in this Report')\n",
    "for repo in repos:\n",
    "    print('   '   ,repo['name'])"
   ]
  },
  {
   "cell_type": "markdown",
   "id": "c70d0948",
   "metadata": {},
   "source": [
    "## Repository Report"
   ]
  },
  {
   "cell_type": "code",
   "execution_count": null,
   "id": "41af5a60",
   "metadata": {
    "ExecuteTime": {
     "end_time": "2022-04-19T20:09:11.788764Z",
     "start_time": "2022-04-19T20:08:55.539650Z"
    },
    "code_folding": [
     80
    ]
   },
   "outputs": [],
   "source": [
    "reposIssuesList = []\n",
    "milestonesList = []\n",
    "targetBranch = 'alpha-dev'\n",
    "targetBranch = 'main'\n",
    "#  Milestones section\n",
    "for repo in repos:\n",
    "    #  oci-iac repo contains milestone descriptions and due dates\n",
    "    \n",
    "    if 'oci-iac' in repo['name']:\n",
    "        milestonesUrl = repo['milestones_url']\n",
    "        milestones = requests.get(milestonesUrl.replace('{/number}',''),auth=auth)\n",
    "#         pprint.pprint(milestones.json())\n",
    "        for milestone in milestones.json():\n",
    "            print('Milestone: ', milestone['url'])\n",
    "            mStone = requests.get(milestone['url'],auth=auth)\n",
    "            print('title: ' , mStone.json()['title']  )\n",
    "            print('State: ' , mStone.json()['state']  )\n",
    "            print('Description: ' , mStone.json()['description'] )\n",
    "            print('Due_on: ' , mStone.json()['due_on']  )\n",
    "#             print('Open_issues: ' , mStone.json()['open_issues']  )\n",
    "#             print('Closed_issues: ' , mStone.json()['closed_issues']  )\n",
    "            milestonesDict = {}\n",
    "            milestonesDict['title'] = mStone.json()['title'] \n",
    "            milestonesDict['state'] = mStone.json()['state'] \n",
    "            milestonesDict['description'] = mStone.json()['description'] \n",
    "            milestonesDict['due_on'] = mStone.json()['due_on'] if mStone.json()['due_on'] else 'TBD'\n",
    "            print('---')\n",
    "            milestonesList.append(milestonesDict) \n",
    "\n",
    "#  Issues section\n",
    "for repo in repos :\n",
    "    repoIssuesDict = {}\n",
    "    repoIssuesDict['repo_name'] = repo['name']\n",
    "    repoIssuesDict['open'] = 0\n",
    "    repoIssuesDict['closed'] = 0\n",
    "    print( 'Repo:',repo[\"name\"] + ' and branch: ' + targetBranch )\n",
    "    print('    Private:     ', repo['private'])\n",
    "    print('    HTTPS URL:   ', repo['clone_url'])\n",
    "    print('    SSH URL:     ', repo['ssh_url'])    \n",
    "    contentsUrl = repo['contents_url']\n",
    "    print('    Contents URL:' ,contentsUrl.replace('{+path}',''))\n",
    "    contents = requests.get(contentsUrl.replace('{+path}',''),auth=auth)\n",
    "    cFileList = []  ;   cDirList = []\n",
    "    [cFileList.append(x) for x in contents.json() if x['type'] == 'file' ]\n",
    "#- Files\n",
    "    print('    Files in main branch:')\n",
    "    for content in cFileList:\n",
    "        print('       ', content['name'])\n",
    "    [cDirList.append(x) for x in contents.json() if x['type'] == 'dir' ]\n",
    "#- Folders\n",
    "    print('    Folders in main branch:')\n",
    "    for content in cDirList:\n",
    "        print('       ', '/' + content['name'])\n",
    "#- Branches\n",
    "    print('    Branches:')\n",
    "    branches = requests.get(repo['branches_url'].replace('{/branch}',''),auth=auth)\n",
    "    for branch in branches.json():\n",
    "        print('         ' ,branch['name'])\n",
    "        branchContents = requests.get(repo['branches_url'].replace('{/branch}','/'+branch['name'])\n",
    "                                      ,auth=auth)\n",
    "        branchContent = branchContents.json()['commit']['commit']\n",
    "        print('              Author:',branchContent['author'] ['name'])\n",
    "        print('              Date:  ' ,branchContent ['author'] ['date'] )             \n",
    "        # Get Branch Url\n",
    "        if branch['name'] == targetBranch: \n",
    "            targetBranchUrl = branch ['commit'] ['url']\n",
    "#-Folder Contents\n",
    "    print('\\n    Folder Contents in Branch: ' + targetBranch )\n",
    "    targetBranchContents = requests.get(targetBranchUrl,auth=auth)\n",
    "    targetBranchTreeUrl = targetBranchContents.json()['commit']['tree'] ['url'] \n",
    "#     print('Target Branch URL: ' , targetBranchTreeUrl )\n",
    "    branchContentTree =requests.get(targetBranchTreeUrl,auth=auth)\n",
    "    show_branch_tree(branchContentTree,offset=10)\n",
    " #- Issues\n",
    "    print('\\n    Open Issues:')\n",
    "      \n",
    "    issues = requests.get(repo['issues_url'].replace('{/number}','?state=all'),auth=auth)\n",
    "    issuesList = sorted(issues.json() ,key=lambda i:i['number']   )\n",
    "    repoIssuesList  = []\n",
    "#     try:\n",
    "    for issue in issuesList :   # issues.json():\n",
    "        issuesDict = {}\n",
    "        issuesDict['title'] = issue['title']\n",
    "        issuesDict['state'] = issue['state']\n",
    "        issuesDict['created_at'] = issue['created_at']\n",
    "        issuesDict['closed_at'] = issue['closed_at']\n",
    "        issuesDict['number'] = issue['number']\n",
    "        issuesDict['milestone'] = issue['milestone']\n",
    "\n",
    "        issuesDict['body'] = []\n",
    "        \n",
    "        if 'open' in issue['state']:\n",
    "            repoIssuesDict['open'] += 1\n",
    "            print('\\n         ' , '#' + str(issue['number']) + ' - ' +  issue['title'])   \n",
    "            print('                Created: ' + issue['created_at'])\n",
    "            print('                Tasks:')\n",
    "            issueBody = issue['body']\n",
    "#                 print(issueBody)\n",
    "            issueTopicsList=[]\n",
    "            if issueBody is not None:\n",
    "                issueLineList  = string2List(issueBody)\n",
    "#                     print(issueLineList)\n",
    "                for issueLine in issueLineList:\n",
    "                    if len(issueLine) > 1 and ('[ ]' in  issueLine or '[x]' in issueLine) :\n",
    "                        issueTopicsList.append(issueLine)\n",
    "                        print('               ', issueLine)\n",
    "            else:\n",
    "                print('                No Tasks' , )   \n",
    "            issuesDict['body'] = issueTopicsList\n",
    "        else:\n",
    "            repoIssuesDict['closed'] += 1\n",
    "        issuesDict['labels'] = []\n",
    "        if len(issue['labels']) > 0:\n",
    "            for label in issue['labels'] :\n",
    "                newLabelDict = {}\n",
    "                newLabelDict['name']=label['name']\n",
    "                newLabelDict['description'] = label['description']\n",
    "                issuesDict['labels'].append(newLabelDict)\n",
    "        repoIssuesList.append(issuesDict)\n",
    "    repoIssuesDict['issues'] = repoIssuesList\n",
    "    print('\\n---' )\n",
    "    reposIssuesList.append(repoIssuesDict)\n",
    "print('----------')\n",
    "with open('ReposIssuesList.json', 'w') as convert_file:\n",
    "     convert_file.write(json.dumps(reposIssuesList))\n",
    "print('Conversion of Issues List to file is Complete - ReposIssuesList.json'  )\n",
    "with open('MilestonesList.json', 'w') as convert_file:\n",
    "     convert_file.write(json.dumps(milestonesList))\n",
    "print('Conversion of Issues List to file is Complete - MilestonesList.json'  )\n",
    "milestonesList"
   ]
  },
  {
   "cell_type": "markdown",
   "id": "03864b0e",
   "metadata": {},
   "source": [
    "## Milestones"
   ]
  },
  {
   "cell_type": "code",
   "execution_count": null,
   "id": "d1e325a1",
   "metadata": {
    "ExecuteTime": {
     "end_time": "2022-02-22T15:22:56.466332Z",
     "start_time": "2022-02-22T15:22:56.449251Z"
    },
    "scrolled": true
   },
   "outputs": [],
   "source": [
    "milestones = ['Multiple Tenancy Capable'  , 'Tachometer Functional' , 'CURB Functional', 'Standards Compliant']\n",
    "for milestone in milestones:\n",
    "    print(milestone )\n",
    "    for repoIssue in reposIssuesList :\n",
    "        issuesList = sorted(repoIssue['issues'] ,key=lambda i:i['number']   )\n",
    "        for issue in issuesList :   \n",
    "            if issue['milestone'] is not None  and  issue['milestone']['title']  == milestone :\n",
    "                print( '    ' , issue['title'])\n"
   ]
  },
  {
   "cell_type": "code",
   "execution_count": null,
   "id": "e144ecaa",
   "metadata": {
    "ExecuteTime": {
     "end_time": "2022-02-14T15:36:16.917764Z",
     "start_time": "2022-02-14T15:36:16.866872Z"
    }
   },
   "outputs": [],
   "source": [
    "for testI in reposIssuesList[0]['issues']:\n",
    "    print(testI['title'] + '  ' + testI['number'] )\n",
    "    \n",
    "    print('---')\n",
    "pprint.pprint( reposIssuesList  )"
   ]
  },
  {
   "cell_type": "markdown",
   "id": "168b4478",
   "metadata": {},
   "source": [
    "### Report Issues"
   ]
  },
  {
   "cell_type": "code",
   "execution_count": null,
   "id": "b0ca6e1e",
   "metadata": {
    "ExecuteTime": {
     "end_time": "2022-02-14T16:57:06.029286Z",
     "start_time": "2022-02-14T16:57:05.943349Z"
    }
   },
   "outputs": [],
   "source": [
    "# Print issues List created above\n",
    "\n",
    "issuesList = []\n",
    "for repo in reposIssuesList:\n",
    "    for issue in repo['issues']:\n",
    "        issueDict = {}\n",
    "        issueDict['repo_name'] = repo['repo_name']\n",
    "        issueDict['issue_title'] = issue['title']\n",
    "        issueDict['issue_number'] = issue['number']\n",
    "        issueDict['date_opened'] = issue['created_at']\n",
    "        issueDict['date_closed'] = issue['closed_at']\n",
    "        issueDict['state'] = issue['state']\n",
    "        issueDict['body'] = issue['body']\n",
    "        issuesList.append(issueDict)\n",
    "\n",
    "td = datetime.datetime.today()\n",
    "start_datetime =  td  + relativedelta(days=-7) \n",
    "recently_datetime = start_datetime.astimezone(pytz.timezone('US/Eastern'))\n",
    "# print('Recent start date '   ,\n",
    "#       recently_datetime.astimezone(pytz.timezone('US/Eastern')).strftime(\"%m/%d/%Y %I:%M %p %Z\") )   \n",
    "reportTitle = \\\n",
    "\"\"\"\\hspace {40mm} \\Large {\\\\textbf{TRUCCR Issues Report}} \\\\\\[1pt]\n",
    "\\hspace {60mm} \\\\small {\\\\textsf{Date: TDATE  }} \"\"\"\n",
    "\n",
    "today = td.astimezone(pytz.timezone('US/Eastern'))\n",
    "todayDate = today.strftime(\"%m/%d/%Y\")\n",
    "display(Markdown( '$ ' + reportTitle.replace('TDATE', todayDate  ) + ' $' ))\n",
    "display(Markdown( '$ \\\\normalsize \\\\color{blue}  {\\\\textsf{Current Open Issues}} \\\\\\[1pt]  $ '  ))\n",
    "OPEN_ISSUES_TEMPLATE = \"\"\"\n",
    "\\hspace {10mm} \\small {\\\\textbf{TITLE - #NBR}} \\\\\\[1pt] \n",
    "\\hspace {10mm} \\small {\\\\textsf{Opened AGE days ago on ODATE }} \\\\\\[1pt] \n",
    "\\hspace {10mm} \\small {\\\\textsf{Module: MODULE }} \\\\\\[5pt] \n",
    "\\hspace {10mm} \\small {\\\\textsf{Issue Tasks: }} \\\\\\[1pt] \n",
    "\\hspace {10mm} \\small {TASKS } \\\\\\[1pt] \n",
    "\"\"\"\n",
    "ISSUE_TEMPLATE = \"\"\"\n",
    "\\hspace {10mm} \\small {\\\\textbf{TITLE - #NBR}} \\\\\\[1pt] \n",
    "\\hspace {10mm} \\small {\\\\textsf{Opened AGE days ago on ODATE }} \\\\\\[1pt] \n",
    "\\hspace {10mm} \\small {\\\\textsf{Module: MODULE }} \\\\\\[5pt] \n",
    "\"\"\"\n",
    "# print ('Open Issues')\n",
    "for issue in issuesList:\n",
    "    if issue['state'] == 'open':\n",
    "#         print('\\n' + issue['issue_title'] + ' - #' + str(issue['issue_number'] )   )\n",
    "        openIssues = OPEN_ISSUES_TEMPLATE\n",
    "        openIssues = openIssues.replace('TITLE' , issue['issue_title'] )\n",
    "        openIssues = openIssues.replace('NBR' , str(issue['issue_number']) )\n",
    "        openedDate = datetime.datetime.strptime(issue['date_opened'],\"%Y-%m-%dT%H:%M:%SZ\")\n",
    "        age = td - openedDate\n",
    "        dateOpened =openedDate.astimezone(pytz.timezone('US/Eastern')).strftime(\"%m/%d\")\n",
    "#         print('Opened ' + str(age.days) + ' days ago on ' + dateOpened )\n",
    "#         print('Module: ' + issue['repo_name']    )\n",
    "        openIssues = openIssues.replace('AGE' , str(age.days ) )\n",
    "        openIssues = openIssues.replace('ODATE' , dateOpened )\n",
    "        openIssues = openIssues.replace('MODULE' , str(issue['repo_name']) )\n",
    "        \n",
    "        issueBody = issue['body']\n",
    "        if issueBody is not None :\n",
    "            issueCnt = 0\n",
    "#             issueLineList  = string2List(issueBody)\n",
    "            issueMatrix = ' \\\\begin{array}{l}  \\\\\\[1pt] '\n",
    "            for issueLine in issueBody:\n",
    "                if len(issueLine) > 1 and ('[ ]' in  issueLine or '[x]' in issueLine) :\n",
    "                    issueCnt += 1\n",
    "                    matrixLine = ' \\\\small { \\\\textsf{LINE }}   \\\\\\[1pt] '\n",
    "                    issueMatrix = issueMatrix + matrixLine.replace('LINE', issueLine   )\n",
    "            if issueCnt > 0:\n",
    "                issueMatrix = issueMatrix + '  \\\\end{array} \\\\\\[2pt]   '\n",
    "                openIssues = openIssues.replace('TASKS' , issueMatrix )\n",
    "            else:\n",
    "                openIssues = openIssues.replace('TASKS' , '\\\\textit{No Tasks Entered}' )\n",
    "        else:\n",
    "            openIssues = openIssues.replace('TASKS' , '\\\\textit{No Tasks Entered}' )  \n",
    "        display(Markdown ('$ ' + openIssues   + ' $'    ))\n",
    "               \n",
    "# print('\\nIssues Closed Last Week')\n",
    "display(Markdown( '$ \\\\normalsize \\\\color{blue} {\\\\textsf{Summary Issues Closed Last 7 Days (Including Merged Branches)}} \\\\\\[1pt]  $ '  ))\n",
    "for issue in issuesList:\n",
    "    if issue['state'] == 'closed':\n",
    "        closedDate = datetime.datetime.strptime(issue['date_opened'],\"%Y-%m-%dT%H:%M:%SZ\")\n",
    "        dateClosed =closedDate.astimezone(pytz.timezone('US/Eastern')).strftime(\"%m/%d\")\n",
    "        age = td - closedDate\n",
    "        if age.days > 6 :# or 'Alpha dev' in issue['issue_title']   :\n",
    "            continue\n",
    "        closedIssue = ISSUE_TEMPLATE\n",
    "        closedIssue = closedIssue.replace('TITLE' , issue['issue_title'] )\n",
    "        closedIssue = closedIssue.replace('NBR' , str(issue['issue_number']) )            \n",
    "        closedIssue = closedIssue.replace('AGE' , str(age.days ) )\n",
    "        closedIssue = closedIssue.replace('ODATE' , dateClosed )\n",
    "        closedIssue = closedIssue.replace('MODULE' , str(issue['repo_name']) )            \n",
    "        display(Markdown ('$ ' + closedIssue   + ' $'    ))\n",
    "\n",
    "# print('\\nIssues Opened Last Week')\n",
    "display(Markdown( '$ \\\\normalsize \\\\color{blue} {\\\\textsf{Summary Issues Opened Last 7 Days }} \\\\\\[1pt]  $ '  ))\n",
    "for issue in issuesList:\n",
    "    if issue['state'] == 'open':\n",
    "        openedDate = datetime.datetime.strptime(issue['date_opened'],\"%Y-%m-%dT%H:%M:%SZ\")\n",
    "        age = td - openedDate\n",
    "        if age.days > 6 :\n",
    "            continue\n",
    "#         print('\\n' + issue['issue_title'] + ' - #' + str(issue['issue_number'] )   )\n",
    "        dateOpened =openedDate.astimezone(pytz.timezone('US/Eastern')).strftime(\"%m/%d\")\n",
    "        \n",
    "        openIssue = ISSUE_TEMPLATE\n",
    "        openIssue = openIssue.replace('TITLE' , issue['issue_title'] )\n",
    "        openIssue = openIssue.replace('NBR' , str(issue['issue_number']) )            \n",
    "        openIssue = openIssue.replace('AGE' , str(age.days ) )\n",
    "        openIssue = openIssue.replace('ODATE' , dateOpened )\n",
    "        openIssue = openIssue.replace('MODULE' , str(issue['repo_name']) )            \n",
    "        display(Markdown ('$ ' + openIssue   + ' $'    ))       \n",
    "\n",
    "print('-------------')"
   ]
  },
  {
   "cell_type": "markdown",
   "id": "ff596803",
   "metadata": {},
   "source": [
    "### Branches"
   ]
  },
  {
   "cell_type": "code",
   "execution_count": null,
   "id": "6ef9838e",
   "metadata": {
    "ExecuteTime": {
     "end_time": "2022-02-13T15:22:52.181451Z",
     "start_time": "2022-02-13T15:22:51.849278Z"
    }
   },
   "outputs": [],
   "source": [
    "for branch in branches.json():\n",
    "    print('         ' ,branch['name'])\n",
    "    if branch['name'] == 'alpha-dev':\n",
    "        branchUrl = branch ['commit'] ['url']\n",
    "        break\n",
    "# \n",
    "targetBranchContents = requests.get(branchUrl,auth=auth)\n",
    "targetBranchTreeUrl = targetBranchContents.json()['commit']['tree'] ['url'] \n",
    "print('Target Branch URL: ' , targetBranchTreeUrl )"
   ]
  },
  {
   "cell_type": "markdown",
   "id": "6bcd3429",
   "metadata": {},
   "source": [
    "### Comments"
   ]
  },
  {
   "cell_type": "code",
   "execution_count": null,
   "id": "6d3041df",
   "metadata": {},
   "outputs": [],
   "source": [
    "commentsUrl =  requests.get(  myBranchContents.json()['comments_url']  , auth=auth)\n",
    "pprint.pprint(commentsUrl.json())"
   ]
  },
  {
   "cell_type": "markdown",
   "id": "1a9b16f3",
   "metadata": {},
   "source": [
    "# Gists Report"
   ]
  },
  {
   "cell_type": "markdown",
   "id": "b0a6936b",
   "metadata": {},
   "source": [
    "## Import Packages and Fetch Gists"
   ]
  },
  {
   "cell_type": "code",
   "execution_count": null,
   "id": "3432504f",
   "metadata": {
    "ExecuteTime": {
     "end_time": "2021-12-30T19:38:07.834468Z",
     "start_time": "2021-12-30T19:38:07.605482Z"
    }
   },
   "outputs": [],
   "source": [
    "import requests\n",
    "import pprint\n",
    "from gitsecrets import GITHUB_USER,GITHUB_TOKEN\n",
    "# Create auth for Git credentials\n",
    "auth=requests.auth.HTTPBasicAuth( GITHUB_USER  ,GITHUB_TOKEN )\n",
    "\n",
    "userRepoUrl = 'https://api.github.com/gists'\n",
    "myGistsUrl = userRepoUrl\n",
    "repoResponse = requests.get(myGistsUrl, auth=auth)"
   ]
  },
  {
   "cell_type": "markdown",
   "id": "77f00c9a",
   "metadata": {},
   "source": [
    "## Gists Report"
   ]
  },
  {
   "cell_type": "code",
   "execution_count": null,
   "id": "baedd36d",
   "metadata": {
    "ExecuteTime": {
     "end_time": "2021-12-30T19:38:13.474480Z",
     "start_time": "2021-12-30T19:38:13.458301Z"
    }
   },
   "outputs": [],
   "source": [
    "gists = repoResponse.json()\n",
    "for gist in gists:\n",
    "    print( gist['description'])\n",
    "    print('    Updated: ', gist['updated_at']  )\n",
    "    print('    Type:    ', 'Public' if gist['public'] else 'Private' )\n",
    "    print('    Html Url: ', gist['html_url']  )\n",
    "    print('    Comments: ', gist['comments']  )\n",
    "    \n",
    "    forks = requests.get(gist['forks_url'],auth=auth)\n",
    "    print('    Forks:    ',str(len(forks.json())))\n",
    "    files = gist['files']\n",
    "    print('    Files:')\n",
    "    for file,extra in files.items():\n",
    "        print('        File: ',file)\n",
    "    print('--')\n",
    "print('\\n----------')"
   ]
  },
  {
   "cell_type": "code",
   "execution_count": null,
   "id": "198f0b53",
   "metadata": {},
   "outputs": [],
   "source": []
  },
  {
   "cell_type": "markdown",
   "id": "519819c0",
   "metadata": {},
   "source": [
    "# Archives"
   ]
  },
  {
   "cell_type": "markdown",
   "id": "b5ef8744",
   "metadata": {},
   "source": [
    "## Deprecated Main Branch Content Listing"
   ]
  },
  {
   "cell_type": "code",
   "execution_count": null,
   "id": "7d8e1120",
   "metadata": {},
   "outputs": [],
   "source": [
    "   for folder in cDirList:\n",
    "        break\n",
    "        print('        /'+ folder['name'])\n",
    "        fContents = requests.get(folder['url'] , auth=auth   )\n",
    "        cFileList2 = []  ;   cDirList2 = []\n",
    "        [cFileList2.append(x) for x in fContents.json() if x['type'] == 'file' ]\n",
    "        for content in cFileList2:\n",
    "            print('           '+ content['name'])\n",
    "        [cDirList2.append(x) for x in fContents.json() if x['type'] == 'dir' ]            \n",
    "        for content in cDirList2:\n",
    "            print('           /'+ content['name'])     \n",
    "            folder2 = folder['name'] + '/' + content['name']\n",
    "#             print(contentsUrl.replace('{+path}',folder2 ))\n",
    "            fContents2 = requests.get(contentsUrl.replace('{+path}',folder2),auth=auth)\n",
    "            cFileList3 = []  ;   cDirList3 = []\n",
    "            [cFileList3.append(x) for x in fContents2.json() if x['type'] == 'file' ]    \n",
    "            for content2 in cFileList3:\n",
    "                print('               ', content2['name'] )\n",
    "            [cDirList3.append(x) for x in fContents2.json() if x['type'] == 'dir' ] \n",
    "            for content2 in cDirList3:\n",
    "                print('               /'+ content2['name'] )      \n",
    "                newDirName =  folder['name']  +'/'+content['name'] + '/' + content2['name']\n",
    "                fContents3 = requests.get(contentsUrl.replace('{+path}',newDirName),auth=auth)\n",
    "                cFileList4 = []  ;   cDirList4 = []\n",
    "                [cFileList4.append(x) for x in fContents3.json() if x['type'] == 'file' ]    \n",
    "                for content3 in cFileList4:\n",
    "                    print('                   ', content3['name'] )\n",
    "                [cDirList4.append(x) for x in fContents3.json() if x['type'] == 'dir' ]\n",
    "                for content3 in cDirList4:\n",
    "                    print('                   /'+ content3['name'] )   \n",
    "                    newDirName2 =  folder['name']  +'/'+content['name'] + '/' + content2['name'] \\\n",
    "                                 + '/' + content3['name']\n",
    "                    fContents4 = requests.get(contentsUrl.replace('{+path}',newDirName2),auth=auth)\n",
    "                    cFileList5 = []  ;   cDirList5 = []\n",
    "                    [cFileList5.append(x) for x in fContents4.json() if x['type'] == 'file' ]    \n",
    "                    for content4 in cFileList5:\n",
    "                        print('                       ', content4['name'] )\n",
    "                    [cDirList5.append(x) for x in fContents4.json() if x['type'] == 'dir' ]\n",
    "                    for content4 in cDirList5:\n",
    "                        print('                   /'+ content4['name'] )   "
   ]
  },
  {
   "cell_type": "markdown",
   "id": "2f03df1c",
   "metadata": {},
   "source": [
    "## Issues"
   ]
  },
  {
   "cell_type": "code",
   "execution_count": null,
   "id": "80e83ae1",
   "metadata": {},
   "outputs": [],
   "source": [
    "\n",
    "\n",
    "searchFilter = 'https://api.github.com/repos/tr/truccr_oci-iac/issues?state=all'\n",
    "repoResponse = requests.get(searchFilter, auth=auth)\n",
    "closedIssues = repoResponse.json()\n",
    "\n",
    "# pprint.pprint(closedIssues[i].keys() )\n",
    "for i in range(len(closedIssues)):\n",
    "    createdTime = closedIssues[i]['created_at'] \n",
    "    closedTime = closedIssues[i]['closed_at'] \n",
    "    if 'open' == closedIssues[i]['state'] :\n",
    "        newTime = datetime.datetime.strptime(createdTime,\"%Y-%m-%dT%H:%M:%SZ\")\n",
    "        age = td - newTime\n",
    "        print('opened ' + str(age.days) + ' days ago'  )\n",
    "    else:\n",
    "        newTime = datetime.datetime.strptime(closedTime,\"%Y-%m-%dT%H:%M:%SZ\")\n",
    "    newTime = newTime.astimezone(pytz.timezone('US/Eastern'))\n",
    "    if newTime > recently_datetime :\n",
    "        print('Recently Opened/Closed')\n",
    "    print(closedIssues[i]['title'] )\n",
    "    print(closedIssues[i]['state'] )\n",
    "    print(newTime.astimezone(pytz.timezone('US/Eastern')).strftime(\"%m/%d/%Y %I:%M %p %Z\") )\n",
    "    print('---')\n",
    "#     print(closedIssues[i]['repository']    )"
   ]
  }
 ],
 "metadata": {
  "kernelspec": {
   "display_name": "Python 3 (ipykernel)",
   "language": "python",
   "name": "python3"
  },
  "language_info": {
   "codemirror_mode": {
    "name": "ipython",
    "version": 3
   },
   "file_extension": ".py",
   "mimetype": "text/x-python",
   "name": "python",
   "nbconvert_exporter": "python",
   "pygments_lexer": "ipython3",
   "version": "3.9.7"
  },
  "toc": {
   "base_numbering": 1,
   "nav_menu": {},
   "number_sections": true,
   "sideBar": true,
   "skip_h1_title": false,
   "title_cell": "Table of Contents",
   "title_sidebar": "Contents",
   "toc_cell": false,
   "toc_position": {
    "height": "411.954px",
    "left": "151px",
    "top": "160.968px",
    "width": "182.948px"
   },
   "toc_section_display": true,
   "toc_window_display": true
  },
  "varInspector": {
   "cols": {
    "lenName": 16,
    "lenType": 16,
    "lenVar": 40
   },
   "kernels_config": {
    "python": {
     "delete_cmd_postfix": "",
     "delete_cmd_prefix": "del ",
     "library": "var_list.py",
     "varRefreshCmd": "print(var_dic_list())"
    },
    "r": {
     "delete_cmd_postfix": ") ",
     "delete_cmd_prefix": "rm(",
     "library": "var_list.r",
     "varRefreshCmd": "cat(var_dic_list()) "
    }
   },
   "types_to_exclude": [
    "module",
    "function",
    "builtin_function_or_method",
    "instance",
    "_Feature"
   ],
   "window_display": false
  }
 },
 "nbformat": 4,
 "nbformat_minor": 5
}
